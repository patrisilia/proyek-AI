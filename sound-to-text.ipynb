{
 "cells": [
  {
   "cell_type": "code",
   "execution_count": null,
   "metadata": {},
   "outputs": [],
   "source": [
    "import speech_recognition as sr #pip install speechrecognition\n",
    "import pyaudio #pip install pyaudio"
   ]
  },
  {
   "cell_type": "code",
   "execution_count": null,
   "metadata": {},
   "outputs": [],
   "source": [
    "engine = sr.Recognizer()\n",
    "mic = sr.Microphone()\n",
    "hasil = \"\"\n",
    "engine.pause_treshold = 3\n",
    "\n",
    "with mic as source:\n",
    "    print(\"mulai bicara\")\n",
    "    rekaman = engine.listen(source)\n",
    "    print(\"waktu habis\")\n",
    "\n",
    "    try:\n",
    "        hasil = engine.recognize_google(rekaman, language = \"id-2D\")\n",
    "        print(hasil)\n",
    "    except engine.UnknowValueError:\n",
    "        print(\"gagal\")\n",
    "    except Exception as e:\n",
    "        print(e)"
   ]
  },
  {
   "cell_type": "code",
   "execution_count": null,
   "metadata": {},
   "outputs": [],
   "source": [
    "text_file = open(\"Hasil.text\", \"w\")\n",
    "text_file.write(hasil)\n",
    "text_file.close()"
   ]
  }
 ],
 "metadata": {
  "kernelspec": {
   "display_name": "Python 3.10.6 64-bit",
   "language": "python",
   "name": "python3"
  },
  "language_info": {
   "codemirror_mode": {
    "name": "ipython",
    "version": 3
   },
   "file_extension": ".py",
   "mimetype": "text/x-python",
   "name": "python",
   "nbconvert_exporter": "python",
   "pygments_lexer": "ipython3",
   "version": "3.10.6"
  },
  "orig_nbformat": 4,
  "vscode": {
   "interpreter": {
    "hash": "26de051ba29f2982a8de78e945f0abaf191376122a1563185a90213a26c5da77"
   }
  }
 },
 "nbformat": 4,
 "nbformat_minor": 2
}
